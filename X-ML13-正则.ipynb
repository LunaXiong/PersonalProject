{
 "cells": [
  {
   "cell_type": "code",
   "execution_count": 1,
   "metadata": {},
   "outputs": [],
   "source": [
    "import numpy as np\n",
    "import matplotlib as mpl\n",
    "import matplotlib.pyplot as plt\n",
    "import pandas as pd\n",
    "import warnings"
   ]
  },
  {
   "cell_type": "code",
   "execution_count": 2,
   "metadata": {},
   "outputs": [],
   "source": [
    "import sklearn\n",
    "from sklearn.linear_model import LinearRegression, LassoCV, RidgeCV, ElasticNetCV\n",
    "from sklearn.preprocessing import PolynomialFeatures\n",
    "from sklearn.pipeline import Pipeline\n",
    "from sklearn.linear_model.coordinate_descent import ConvergenceWarning"
   ]
  },
  {
   "cell_type": "code",
   "execution_count": 3,
   "metadata": {},
   "outputs": [],
   "source": [
    "mpl.rcParams['font.sans-serif'] = [u'simHei']\n",
    "mpl.rcParams['axes.unicode_minus'] = False"
   ]
  },
  {
   "cell_type": "code",
   "execution_count": 4,
   "metadata": {},
   "outputs": [],
   "source": [
    "warnings.filterwarnings(action='ignore',  category=ConvergenceWarning)"
   ]
  },
  {
   "cell_type": "code",
   "execution_count": 5,
   "metadata": {},
   "outputs": [],
   "source": [
    "#输出格式设置\n",
    "np.random.seed(100)\n",
    "np.set_printoptions(linewidth=1000,suppress=True)"
   ]
  },
  {
   "cell_type": "code",
   "execution_count": 6,
   "metadata": {},
   "outputs": [],
   "source": [
    "N = 10\n",
    "x = np.linspace(0,6,10) + np.random.randn(N)\n",
    "y = 1.8*x**3 + x**2 - 14*x - 7 + np.random.randn(N)\n",
    "\n",
    "x.shape = -1,1\n",
    "y.shape = -1,1"
   ]
  },
  {
   "cell_type": "code",
   "execution_count": 7,
   "metadata": {},
   "outputs": [],
   "source": [
    "#管道对象声明\n",
    "models = [\n",
    "    Pipeline([\n",
    "        ('Poly',PolynomialFeatures(include_bias=True)),\n",
    "        ('Linear', LinearRegression(fit_intercept=False))\n",
    "    ]),\n",
    "    Pipeline([\n",
    "        ('Poly',PolynomialFeatures(include_bias=True)),\n",
    "        ('Linear', RidgeCV(alphas = np.logspace(-3,2,50),fit_intercept=False))\n",
    "    ]),\n",
    "    Pipeline([\n",
    "        ('Poly',PolynomialFeatures(include_bias=True)),\n",
    "        ('Linear', LassoCV(alphas=np.logspace(0,1,10), fit_intercept=False))\n",
    "    ]),\n",
    "    Pipeline([\n",
    "        ('Poly',PolynomialFeatures(include_bias=True)),\n",
    "        ('Linear', ElasticNetCV(alphas=np.logspace(0,1,10), l1_ratio=[0.1,0.5,0.7,0.9,0.95,1],\n",
    "                                fit_intercept=False))\n",
    "    ])    \n",
    "]"
   ]
  },
  {
   "cell_type": "code",
   "execution_count": 8,
   "metadata": {},
   "outputs": [
    {
     "data": {
      "text/plain": [
       "<Figure size 432x288 with 0 Axes>"
      ]
     },
     "metadata": {},
     "output_type": "display_data"
    }
   ],
   "source": [
    "plt.figure(facecolor='w')\n",
    "#高次设置\n",
    "degree = np.arange(1,N,4)"
   ]
  },
  {
   "cell_type": "code",
   "execution_count": 9,
   "metadata": {},
   "outputs": [],
   "source": [
    "dm = degree.size\n",
    "colors = []\n",
    "for c in np.linspace(16711680,255,dm):\n",
    "    colors.append('#%06x' % int(c))"
   ]
  },
  {
   "cell_type": "code",
   "execution_count": 10,
   "metadata": {},
   "outputs": [
    {
     "name": "stdout",
     "output_type": "stream",
     "text": [
      "1阶，系数位：  [-44.14102611  40.05964256]\n",
      "5阶，系数位：  [ -5.60899679 -14.80109301   0.75014858   2.11170671  -0.07724668   0.00566633]\n",
      "9阶，系数位：  [-2465.58381316  6108.63817712 -5111.99333504   974.74974891  1078.89649478  -829.50277842   266.13230658   -45.71741587     4.1158274     -0.15281063]\n"
     ]
    },
    {
     "name": "stderr",
     "output_type": "stream",
     "text": [
      "C:\\Users\\Administrator\\Anaconda3\\lib\\site-packages\\matplotlib\\font_manager.py:1241: UserWarning: findfont: Font family ['sans-serif'] not found. Falling back to DejaVu Sans.\n",
      "  (prop.get_family(), self.defaultFamily[fontext]))\n"
     ]
    },
    {
     "data": {
      "image/png": "[encoded data removed]",
      "text/plain": [
       "<Figure size 432x288 with 3 Axes>"
      ]
     },
     "metadata": {
      "needs_background": "light"
     },
     "output_type": "display_data"
    }
   ],
   "source": [
    "model = models[0]\n",
    "for i,d in enumerate(degree):\n",
    "    plt.subplot(int(np.ceil(dm/2.0)),2,i+1)\n",
    "    #真实数据绘制\n",
    "    plt.plot(x,y,'ro',ms=10,zorder=N)\n",
    "    \n",
    "    #利用管道模型\n",
    "    model.set_params(Poly__degree=d)\n",
    "    model.fit(x,y.ravel())\n",
    "    \n",
    "    lin = model.get_params()['Linear']\n",
    "    #拼凑输出字符串\n",
    "    output = u'%d阶，系数位： ' % (d)\n",
    "    print(output, lin.coef_.ravel())\n",
    "    \n",
    "    #绘制拟合直线\n",
    "    x_hat = np.linspace(x.min(),x.max(), num=100)\n",
    "    x_hat.shape = -1,1\n",
    "    y_hat = model.predict(x_hat)\n",
    "    \n",
    "    #拟合分数\n",
    "    s = model.score(x,y)\n",
    "    \n",
    "    #可视化预测数据\n",
    "    z = N-1 if (d==5) else 0\n",
    "    label = u'%d阶，R2=%.3f' % (d,s)\n",
    "    plt.plot(x_hat,y_hat,color=colors[i], lw=2, alpha=0.75, label=label, zorder=z)\n",
    "    \n",
    "    plt.legend(loc='upper left')\n",
    "    plt.grid(True)\n",
    "    plt.xlabel('X',fontsize=16)\n",
    "    plt.ylabel('Y',fontsize=16)\n",
    "    \n",
    "plt.tight_layout(1,rect=(0,0,1,0.95))\n",
    "plt.suptitle(u'线性回归拟合', fontsize=22)\n",
    "plt.show()"
   ]
  },
  {
   "cell_type": "code",
   "execution_count": 11,
   "metadata": {},
   "outputs": [
    {
     "data": {
      "text/plain": [
       "<Figure size 432x288 with 0 Axes>"
      ]
     },
     "metadata": {},
     "output_type": "display_data"
    }
   ],
   "source": [
    "#控制degree为1,3,5,7,9\n",
    "plt.figure(facecolor='w')\n",
    "degree = np.arange(1,N,2)\n",
    "\n",
    "#设置颜色\n",
    "dm = degree.size\n",
    "colors = []\n",
    "for c in np.linspace(16711680,255,dm):\n",
    "    colors.append('#%06x' % int(c))\n",
    "    \n",
    "titles = [u'线性回归', u'Ridge回归', u'Lasso回归', u'ElasticNet回归']"
   ]
  },
  {
   "cell_type": "code",
   "execution_count": 13,
   "metadata": {},
   "outputs": [
    {
     "name": "stdout",
     "output_type": "stream",
     "text": [
      "1阶，系数为：  [-44.14102611  40.05964256]\n",
      "3阶，系数为：  [ -6.80525963 -13.743068     0.93453895   1.79844791]\n",
      "5阶，系数为：  [ -5.60899679 -14.80109301   0.75014858   2.11170671  -0.07724668   0.00566633]\n",
      "7阶，系数为：  [-41.70721172  52.38570529 -29.56451338  -7.66322829  12.07162703  -3.86969096   0.53286096  -0.02725536]\n",
      "9阶，系数为：  [-2465.58381316  6108.63817712 -5111.99333504   974.74974891  1078.89649478  -829.50277842   266.13230658   -45.71741587     4.1158274     -0.15281063]\n",
      "1阶，alpha=9.540955, 系数为：  [-6.71593385 29.79090057]\n",
      "3阶，alpha=0.005179, 系数为：  [ -6.7819845  -13.73679293   0.92827639   1.79920954]\n",
      "5阶，alpha=39.069399, 系数为：  [-0.82920155 -1.07244754 -1.41803017 -0.93057536  0.88319116 -0.07073168]\n",
      "7阶，alpha=9.540955, 系数为：  [-1.62586368 -2.18512108 -1.82690987 -2.27495708  0.98685071  0.30551091 -0.10988434  0.00846908]\n",
      "9阶，alpha=0.021210, 系数为：  [-10.50566712  -6.12564342  -1.96421973   0.80200162   0.59148104  -0.23358238   0.20296996  -0.0810983    0.01325045  -0.00077212]\n",
      "1阶，alpha=10.000000, 系数为：  [-8.03473264 31.41734467]\n",
      "3阶，alpha=2.782559, 系数为：  [ -0.         -12.31548749  -0.50648488   1.96415789]\n",
      "5阶，alpha=1.668101, 系数为：  [ -0.         -12.26394605  -0.50309544   1.78132292   0.06461552  -0.00564319]\n"
     ]
    },
    {
     "name": "stderr",
     "output_type": "stream",
     "text": [
      "C:\\Users\\Administrator\\Anaconda3\\lib\\site-packages\\sklearn\\model_selection\\_split.py:2053: FutureWarning: You should specify a value for 'cv' instead of relying on the default value. The default value will change from 3 to 5 in version 0.22.\n",
      "  warnings.warn(CV_WARNING, FutureWarning)\n",
      "C:\\Users\\Administrator\\Anaconda3\\lib\\site-packages\\sklearn\\model_selection\\_split.py:2053: FutureWarning: You should specify a value for 'cv' instead of relying on the default value. The default value will change from 3 to 5 in version 0.22.\n",
      "  warnings.warn(CV_WARNING, FutureWarning)\n",
      "C:\\Users\\Administrator\\Anaconda3\\lib\\site-packages\\sklearn\\model_selection\\_split.py:2053: FutureWarning: You should specify a value for 'cv' instead of relying on the default value. The default value will change from 3 to 5 in version 0.22.\n",
      "  warnings.warn(CV_WARNING, FutureWarning)\n",
      "C:\\Users\\Administrator\\Anaconda3\\lib\\site-packages\\sklearn\\model_selection\\_split.py:2053: FutureWarning: You should specify a value for 'cv' instead of relying on the default value. The default value will change from 3 to 5 in version 0.22.\n",
      "  warnings.warn(CV_WARNING, FutureWarning)\n",
      "C:\\Users\\Administrator\\Anaconda3\\lib\\site-packages\\sklearn\\model_selection\\_split.py:2053: FutureWarning: You should specify a value for 'cv' instead of relying on the default value. The default value will change from 3 to 5 in version 0.22.\n",
      "  warnings.warn(CV_WARNING, FutureWarning)\n"
     ]
    },
    {
     "name": "stdout",
     "output_type": "stream",
     "text": [
      "7阶，alpha=10.000000, 系数为：  [-0.         -0.         -0.43065154 -0.5204792   0.41572336  0.01070983 -0.00095092 -0.00040942]\n",
      "9阶，alpha=1.000000, 系数为：  [ -2.30227736 -11.67121674  -0.           1.49333897   0.0762381    0.0029096   -0.00013387  -0.00003958  -0.00000647  -0.00000088]\n",
      "1阶，alpha=1.000000, l1_ratio=0.500000, 系数为：  [-12.87691494  32.00694374]\n",
      "3阶，alpha=1.000000, l1_ratio=0.700000, 系数为：  [ -1.29062225 -10.69750471  -0.99653256   2.00624245]\n"
     ]
    },
    {
     "name": "stderr",
     "output_type": "stream",
     "text": [
      "C:\\Users\\Administrator\\Anaconda3\\lib\\site-packages\\sklearn\\model_selection\\_split.py:2053: FutureWarning: You should specify a value for 'cv' instead of relying on the default value. The default value will change from 3 to 5 in version 0.22.\n",
      "  warnings.warn(CV_WARNING, FutureWarning)\n",
      "C:\\Users\\Administrator\\Anaconda3\\lib\\site-packages\\sklearn\\model_selection\\_split.py:2053: FutureWarning: You should specify a value for 'cv' instead of relying on the default value. The default value will change from 3 to 5 in version 0.22.\n",
      "  warnings.warn(CV_WARNING, FutureWarning)\n",
      "C:\\Users\\Administrator\\Anaconda3\\lib\\site-packages\\sklearn\\model_selection\\_split.py:2053: FutureWarning: You should specify a value for 'cv' instead of relying on the default value. The default value will change from 3 to 5 in version 0.22.\n",
      "  warnings.warn(CV_WARNING, FutureWarning)\n"
     ]
    },
    {
     "name": "stdout",
     "output_type": "stream",
     "text": [
      "5阶，alpha=1.668101, l1_ratio=1.000000, 系数为：  [ -0.         -12.26394605  -0.50309544   1.78132292   0.06461552  -0.00564319]\n"
     ]
    },
    {
     "name": "stderr",
     "output_type": "stream",
     "text": [
      "C:\\Users\\Administrator\\Anaconda3\\lib\\site-packages\\sklearn\\model_selection\\_split.py:2053: FutureWarning: You should specify a value for 'cv' instead of relying on the default value. The default value will change from 3 to 5 in version 0.22.\n",
      "  warnings.warn(CV_WARNING, FutureWarning)\n"
     ]
    },
    {
     "name": "stdout",
     "output_type": "stream",
     "text": [
      "7阶，alpha=10.000000, l1_ratio=0.900000, 系数为：  [-0.         -0.         -0.50228012 -0.5192211   0.42311807  0.00990189 -0.0009666  -0.00040993]\n"
     ]
    },
    {
     "name": "stderr",
     "output_type": "stream",
     "text": [
      "C:\\Users\\Administrator\\Anaconda3\\lib\\site-packages\\sklearn\\model_selection\\_split.py:2053: FutureWarning: You should specify a value for 'cv' instead of relying on the default value. The default value will change from 3 to 5 in version 0.22.\n",
      "  warnings.warn(CV_WARNING, FutureWarning)\n"
     ]
    },
    {
     "name": "stdout",
     "output_type": "stream",
     "text": [
      "9阶，alpha=10.000000, l1_ratio=0.100000, 系数为：  [-0.26991047 -0.59594416 -0.51042742 -0.4872618   0.40686008  0.00816424  0.00001617 -0.00016118 -0.0000254  -0.00000376]\n"
     ]
    },
    {
     "data": {
      "image/png": "[encoded data removed]",
      "text/plain": [
       "<Figure size 432x288 with 4 Axes>"
      ]
     },
     "metadata": {
      "needs_background": "light"
     },
     "output_type": "display_data"
    }
   ],
   "source": [
    "#最外层循环，是模型，共4个模型\n",
    "for t in range(4):\n",
    "    model = models[t]\n",
    "    \n",
    "    #绘制真实点\n",
    "    plt.subplot(2,2,t+1)\n",
    "    plt.plot(x,y,'ro',ms=10,zorder=N-1)\n",
    "    \n",
    "    #遍历所有阶数，绘制一张子图\n",
    "    for i,d in enumerate(degree):\n",
    "        #设置degree参数，拟合模型\n",
    "        model.set_params(Poly__degree=d)\n",
    "        model.fit(x,y.ravel())\n",
    "        \n",
    "        #获取参数\n",
    "        lin = model.get_params()['Linear']\n",
    "        output = u'%d阶，系数为： ' % (d)\n",
    "        \n",
    "        #判断有没有一些属性\n",
    "        if hasattr(lin, 'alpha_'):\n",
    "            idx = output.find(u'系数')\n",
    "            output = output[:idx] + (u'alpha=%.6f, ' % lin.alpha_) + output[idx:]\n",
    "        if hasattr(lin, 'l1_ratio_'):\n",
    "            idx = output.find(u'系数')\n",
    "            output = output[:idx] + (u'l1_ratio=%.6f, ' % lin.l1_ratio_) + output[idx:]\n",
    "            \n",
    "        print(output, lin.coef_.ravel())\n",
    "        \n",
    "        #构造模拟数据\n",
    "        x_hat = np.linspace(x.min(),x.max(), num=100)\n",
    "        x_hat.shape = -1,1\n",
    "        y_hat = model.predict(x_hat)\n",
    "        \n",
    "        #拟合分数\n",
    "        s = model.score(x,y)\n",
    "        \n",
    "        #可视化预测数据\n",
    "        z = N-1 if (d==5) else 0\n",
    "        label = u'%d阶，正确率=%.3f' % (d,s)\n",
    "        plt.plot(x_hat,y_hat,color=colors[i], lw=2, alpha=0.75, label=label, zorder=z)\n",
    "        \n",
    "    #设置子图可视化细节\n",
    "    plt.legend(loc='upper left')\n",
    "    plt.grid(True)\n",
    "    plt.title(titles[t])\n",
    "    plt.xlabel('X',fontsize=16)\n",
    "    plt.ylabel('Y',fontsize=16)\n",
    "    \n",
    "#整体大图可视化设置\n",
    "plt.tight_layout(1,rect=(0,0,1,0.95))\n",
    "plt.suptitle(u'各种不同线性回归过拟合显示', fontsize=22)\n",
    "plt.show()"
   ]
  },
  {
   "cell_type": "code",
   "execution_count": null,
   "metadata": {},
   "outputs": [],
   "source": []
  }
 ],
 "metadata": {
  "kernelspec": {
   "display_name": "Python 3",
   "language": "python",
   "name": "python3"
  },
  "language_info": {
   "codemirror_mode": {
    "name": "ipython",
    "version": 3
   },
   "file_extension": ".py",
   "mimetype": "text/x-python",
   "name": "python",
   "nbconvert_exporter": "python",
   "pygments_lexer": "ipython3",
   "version": "3.7.3"
  }
 },
 "nbformat": 4,
 "nbformat_minor": 2
}
