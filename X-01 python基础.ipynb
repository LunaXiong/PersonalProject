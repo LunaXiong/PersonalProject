{
 "cells": [
  {
   "cell_type": "code",
   "execution_count": 6,
   "metadata": {},
   "outputs": [
    {
     "name": "stdout",
     "output_type": "stream",
     "text": [
      "小猫钓上水产品数量为29,预计收入为167元。\n"
     ]
    }
   ],
   "source": [
    "# 3.6 小猫钓鱼收入核算\n",
    "fish_record ='鲫鱼5条、鲤鱼8条、鲢鱼7条、草鱼2条、黑鱼6条、乌龟1只'\n",
    "fish_price ='8、5、3、2、9、8'         #单位 ：无\n",
    "num1 = 0\n",
    "sum1 = 0\n",
    "Amount = 0\n",
    "i = 0\n",
    "while i < len(fish_price)/2:\n",
    "    num1 = int(fish_record[2+i*5])\n",
    "    sum1 = sum1 + num1                             #水产品数量累计\n",
    "    Amount = Amount+int(fish_price[i*2])*num1     #收入累计\n",
    "    i+=1                                          #循环增加1 控制语句\n",
    "print('小猫钓上水产品数量为%d,预计收入为%d元。'%(sum1,Amount))\n"
   ]
  },
  {
   "cell_type": "code",
   "execution_count": 12,
   "metadata": {},
   "outputs": [
    {
     "name": "stdout",
     "output_type": "stream",
     "text": [
      "钓鱼日期名称数量单价（元）\n",
      "-------------------------\n",
      "1月1日,鲫鱼,18.00,10.50\n",
      "1月1日,鲤鱼,8.00,6.20\n",
      "1月1日,鲢鱼,7.00,4.70\n",
      "1月2日,草鱼,2.00,7.20\n",
      "1月2日,鲫鱼,3.00,12.00\n",
      "1月2日,黑鱼,6.00,15.00\n",
      "1月3日,乌龟,1.00,71.00\n",
      "1月3日,鲫鱼,1.00,9.80\n",
      "-------------------------\n",
      "         总数：46,总金额492.70元\n"
     ]
    }
   ],
   "source": [
    "# 4.1 小猫列表记账\n",
    "nums = 0                                                    # 统计数量变量\n",
    "amount = 0                                                  # 统计金额变量\n",
    "i = 0                                                       # 循环控制变量\n",
    "fish_record = ['1月1日','鲫鱼',18,10.5,'1月1日','鲤鱼',8,6.2,'1月1日','鲢鱼',7,4.7,'1月2日','草鱼',2,7.2,'1月2日','鲫鱼',3,12,'1月2日','黑鱼',6,15,'1月3日','乌龟',1,71,'1月3日','鲫鱼',1,9.8]                     #列表对象记录钓鱼内容\n",
    "print('钓鱼日期名称数量单价（元）') \n",
    "print('-------------------------')\n",
    "while i<len(fish_record):\n",
    "    nums = nums + fish_record[i+2]                          # 累计数量\n",
    "    amount = amount + fish_record[i+2]*fish_record[i+3]     # 累计金额\n",
    "    print('%s,%s,%.2f,%.2f'%(fish_record[i],fish_record[i+1],fish_record[i+2],fish_record[i+3]))\n",
    "    i = i+4\n",
    "print('-------------------------')\n",
    "print('         总数：%d,总金额%.2f元'%(nums,amount))"
   ]
  },
  {
   "cell_type": "markdown",
   "metadata": {},
   "source": [
    "### 采用冒泡法排序"
   ]
  },
  {
   "cell_type": "code",
   "execution_count": 14,
   "metadata": {},
   "outputs": [
    {
     "name": "stdout",
     "output_type": "stream",
     "text": [
      "[1, 1, 2, 3, 6, 7, 8, 18]\n"
     ]
    }
   ],
   "source": [
    "\n",
    "fish_records = [18,8,7,2,3,6,1,1]                #原始数据顺序\n",
    "i = 0                                            #循环控制变量\n",
    "compare = 0                                      #比较元素初始值\n",
    "fish_len = len(fish_records)                     #获取列表长度\n",
    "while i < fish_len:                             #\n",
    "    j = 1                                       #循环控制变量\n",
    "    while j<fish_len-i:                                 # 循环一遍 长度减一\n",
    "        if fish_records[j-1]>fish_records[j]:            # 比较前后元素那个比较大\n",
    "            compare = fish_records[j-1]                  # 把前一个大的放在临时的比较变量里\n",
    "            fish_records[j-1] = fish_records[j]          # 把小的元素放到前面\n",
    "            fish_records[j]= compare                     # 把临时变量里大的元素放到后面\n",
    "        j+=1                                             # 内循环控制变量加1\n",
    "    i+=1                                                 # 外循环控制变量加1\n",
    "print(fish_records)                                      # 输出冒泡排序结果\n"
   ]
  },
  {
   "cell_type": "markdown",
   "metadata": {},
   "source": [
    "### 二分法查找 "
   ]
  },
  {
   "cell_type": "code",
   "execution_count": 23,
   "metadata": {},
   "outputs": [
    {
     "name": "stdout",
     "output_type": "stream",
     "text": [
      "7在列表下标5处，找了2次。\n"
     ]
    }
   ],
   "source": [
    "fish_records = [1,1,2,3,6,7,8,18]                     # 排序后的钓鱼数量记录\n",
    "low = 0                                               # 查找范围下界\n",
    "high = len(fish_records)-1                             # 查找范围上界\n",
    "find_value = 7                                        # 要寻找的值 可以灵活调整\n",
    "find_OK = False                                       # 是否找到的标志 ，True 为找到\n",
    "i = 1                                                 # 统计在列表中的查找次序\n",
    "while low<=high:                                     \n",
    "    middle = int((low + high)/2                       # 用int 取整数 ，避免浮点数问题的发生\n",
    "    if find_value == fish_records[middle]:            # 找到时\n",
    "        find_OK = True                                # 设置找到标志为True\n",
    "        break\n",
    "    elif find_value > fish_records[middle]:          # 没有找到，要找的值范围大于中位值时\n",
    "        low = middle+1                               # 范围在 middle+1 和 high 之间\n",
    "    elif find_value < fish_records[middle]:         # 没有找到，要找的值范围小于中位值时 \n",
    "        high = middle-1                             # 范围在low\n",
    "    i+=1\n",
    "if find_OK:\n",
    "    print('%d在列表下标%d处，找了%d次。'%(find_value,middle,i))\n",
    "else:\n",
    "    print('要找的数%d没有!找了%d次。'%(find_value,i))"
   ]
  },
  {
   "cell_type": "code",
   "execution_count": null,
   "metadata": {},
   "outputs": [],
   "source": []
  },
  {
   "cell_type": "code",
   "execution_count": 30,
   "metadata": {},
   "outputs": [
    {
     "ename": "SyntaxError",
     "evalue": "invalid syntax (<ipython-input-30-a38f0b419f2e>, line 14)",
     "output_type": "error",
     "traceback": [
      "\u001b[1;36m  File \u001b[1;32m\"<ipython-input-30-a38f0b419f2e>\"\u001b[1;36m, line \u001b[1;32m14\u001b[0m\n\u001b[1;33m    stat_list[]=\"\u001b[0m\n\u001b[1;37m              ^\u001b[0m\n\u001b[1;31mSyntaxError\u001b[0m\u001b[1;31m:\u001b[0m invalid syntax\n"
     ]
    }
   ],
   "source": [
    "fish_record = ['1月1日','鲫鱼',18,10.5,'1月1日','鲤鱼',8,6.2,'1月1日','鲢鱼',7,4.7,'1月2日','草鱼',2,7.2,'1月2日','鲫鱼',3,12,'1月2日','黑鱼',6,15,'1月3日','乌龟',1,71,'1月3日','鲫鱼',1,9.8]\n",
    "stat_list = ['1月1日','',0,0]                       #用于统计记录\n",
    "j = 0                                               #循环控制变量\n",
    "while j<len(fish_records):\n",
    "    get_list = fish_records[j,j+4]                 #获取新的比较记录\n",
    "    if get_list[0]==stat_list[0]:                   #同一个日期统计\n",
    "        if get_list[2]%2==0:                        #能被2整除，是偶数\n",
    "            stat_list[2]+= get_list[2]               #获取当日的偶数累计\n",
    "        print(get_list)                              #打印同日钓鱼记录\n",
    "    else:\n",
    "        print('%s,偶数累计为%d'%(stat_list[0],stat_list[2]))\n",
    "        stat_list=get_list                           #获取新日期的初始累计\n",
    "        print(get_list)                              # 打印新同日第一条钓鱼记录\n",
    "        stat_list[]=\"\n",
    "        if get_list[2]%2!=0:                         # 新第一条记录如果不是偶数，则累计从0开始\n",
    "            stat_list[2]=0\n",
    "    j+=4                    \n",
    "print('%s,偶数累计为%d'%(stat_list[0],stat_list[2]))        #打印最后一类累计情况\n"
   ]
  }
 ],
 "metadata": {
  "kernelspec": {
   "display_name": "Python 3",
   "language": "python",
   "name": "python3"
  },
  "language_info": {
   "codemirror_mode": {
    "name": "ipython",
    "version": 3
   },
   "file_extension": ".py",
   "mimetype": "text/x-python",
   "name": "python",
   "nbconvert_exporter": "python",
   "pygments_lexer": "ipython3",
   "version": "3.7.3"
  }
 },
 "nbformat": 4,
 "nbformat_minor": 2
}
